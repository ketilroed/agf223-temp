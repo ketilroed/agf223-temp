{
 "cells": [
  {
   "cell_type": "markdown",
   "id": "1209ba9b",
   "metadata": {},
   "source": [
    "# Langmuir probes measurement techniques"
   ]
  },
  {
   "cell_type": "markdown",
   "id": "ada4c77d",
   "metadata": {},
   "source": [
    "# Plasma\n",
    "\n",
    "\n",
    "Plasma is created when a gas is heated to such a degree that at least one of the electrons in an atom has been stripped free (ionized), leaving behind a positively charge nucleus, called an ion. Plasma is often referred to as the fourth state of matter; solid, liquid, and gas being the three others. Since plasma are made up free charge carriers (ions and electrons), it is subject to influence from electromagnetic fields and forces. Emerging electric fields become rampant everywhere meaning that the particles do not simply collide mechanically, but are affected by the electromagnetic fields between each other.\n",
    "\n",
    "Plasma usually exist only in vacuum conditions. In air, plasma will cool and electrons and ions will easily recombine into neutral atoms. Plasma is the most abundant form of matter in the visible universe. E.g., plasmas are present in stars (Sun), the solar wind, the Earth's ionosphere, interstella space, nebulas.\n",
    "\n",
    "<table>\n",
    "    <td>\n",
    "        <a href=\"./images/states_of_matter.png\"> <img alt=\"\" src=\"./images/states_of_matter.png\" style=\"float: center; margin-left: 1px;\" width=80% /></a>\n",
    "    </td>\n",
    "    <td>\n",
    "         <a href=\"./images/space_plasma.jpg\"> <img alt=\"\" src=\"./images/space_plasma.jpg\" style=\"float: center; margin-left: 1px;\" width=80% /></a>\n",
    "    </td>\n",
    "</table>\n",
    "\n",
    "On Earth, natural plasmas are less frequent but still present. They appear in lightning and auroras (ionosphere), or can be man made, by e.g., using electromagnetic fields to partly ionize a gas within a confined volume (Neon or fluorecent light, pixels of a plasma TV, nuclear fusion plasma reactors). \n",
    "\n",
    "Because so much of the universe is made of plasma, its behaviour and properties are naturally of interest to scientists in many disicplines and even for industrial applications. Plasmas are e.g., essential for [producing computer chips](https://uigelz.eecs.umich.edu/pub/intro/computer-chips.pdf). Plasma diagnostic techniques are therefore an important field of study. \n",
    "\n",
    "Within the [4DSpace research initiative](https://www.mn.uio.no/fysikk/english/research/projects/4dspace/) at the University of Oslo, we use Langmuir probes to measure the plasma properties of the ionosphere. \n",
    "\n",
    "\n",
    "\n",
    "## Sheath\n",
    "\n",
    "When you introduce a charged object into a plasma it will start to attracted particles of opposite charge. This builds a sheath of opposite charge around the object that balances out the introduced charge. The field of the negativly charged object will not extend beyond the edge of the sheath, and the negatively charge object is effectively **shielded** from the surrounding plasma. \n",
    "\n",
    " <td>\n",
    "         <a href=\"./images/shielded_charge.png\"> <img alt=\"\" src=\"./images/shielded_charge.png\" style=\"float: center; margin-left: 1px;\" width=40% /></a>\n",
    "    </td>\n",
    "\n",
    "\n",
    "\n",
    "In a plasma the Debye length ($\\lambda_D$) is considered a fundamental plasma parameter and describes change in the local potential due to the presence of some charged object, and is defined as:\n",
    "\n",
    "\n",
    "$\\lambda_D = \\sqrt{\\frac{\\epsilon_0 k T}{n q^2}}$\n",
    "\n",
    "where $\\epsilon_0$ is the permittivity of free space, k is the Boltzmann constant, $T$ is the particle temperature, $n$ is the plasma density and $q$ is the particle charge.\n",
    "\n",
    "\n",
    "The Debye length is a measure for how far the electrostatic effect created by the introduced charge persist in the plasma. With each Debye length the introduced charge is increasingly electrically screened and the electric potential decreases in magnitude by $1/e \\approx 0.368$.\n",
    "\n",
    "\n",
    "\n",
    "## Criteria to be called a plasma\n",
    "\n",
    "To be defined as a plasma, an ionized gas must be quasineutral ($n_e \\simeq n_i$) and exhibit a collective behaviour. \n",
    "\n",
    "While a plasma can contain local concentrations of positive and negative charge which give rise to electric fields, quasineutral means that as a whole the plasma must contain an equal amount of negative and positive charge (on average); the net charge of the plasma is neutral. \n",
    "\n",
    "Motion of charges also generates currents, and hence magnetic fields. These electric and magnetic fields are long range and affect particles even at large distances. Plasma is therefore a collection of charged particles that behave in a collective way because of attractive and repelling electric and magnetic forces. \n",
    "\n",
    "A plasma must also have enough charged particles so that it can act as shield to an external potential. Its volume must be large enough to cover many Debye lengths in each direction. \n",
    "\n",
    "\n"
   ]
  },
  {
   "cell_type": "markdown",
   "id": "0ee9fde0",
   "metadata": {
    "slideshow": {
     "slide_type": "slide"
    }
   },
   "source": [
    "# Langmuir probe\n",
    "\n",
    "A Langmuir probe is a device that can be used to determine the \n",
    "- **electron temperature ($T_e$)**, and the \n",
    "- **electron and ion density ($N_e$ and $N_i$)** of a plasma. \n",
    "\n",
    "It is the oldest and most often used technique to for low-temperature plasmas and was introduced by [Irving Langmuir](https://edisontechcenter.org/IrvingLangmuir.html) in the 1920's. In fact, Langmuir coined the term plasma [(MOTT-SMITH, H. History of “Plasmas”. Nature 233, 219 (1971). https://doi.org/10.1038/233219a0)](https://doi.org/10.1038/233219a0).\n",
    "\n",
    "In its simplest form, it works by inserting an electrode into a plasma, applying a bias voltage to it relative to some reference potential, and then measure the current collected by the electrode.\n",
    "\n",
    "The Langmuir probe has been extensively used for many years on rockets and satellites to perform in situ measurement of the plasma density and temperature. The University of Oslo as developed the multi-Needle Langmuir Probe (mNLP) system to achieved high resolution measurements of the electron density in the ionosphere [[Jacobsen 2010]](https://iopscience.iop.org/article/10.1088/0957-0233/21/8/085902), [[Bekkeng 2010]](https://iopscience.iop.org/article/10.1088/0957-0233/21/8/085903). Before we introduce this multi-needle technqiue, we should however first study the basic measurement principle of a single Langmuir probe. \n",
    "\n",
    "<a href=\"./images/langmuir_probe.png\"> <img alt=\"Image courtesy ASC\" src=\"./images/langmuir_probe.png\" style=\"float: center; margin-left: 1px;\" width=30% /></a>\n",
    "\n",
    "    Example of a cylindrical Langmuir probe manufactured by the University of Oslo.\n",
    "\n",
    "\n",
    "Langmuir probes usually take the shape of a spherical, cylindrical or planer object. We will focus on the cylindrical probe in this module.\n",
    "\n"
   ]
  },
  {
   "cell_type": "markdown",
   "id": "334c9974",
   "metadata": {
    "slideshow": {
     "slide_type": "slide"
    }
   },
   "source": [
    "## Langmuir probe measurement technique\n",
    "<a href=\"./images/lp_sweep_model.png\"> <img alt=\"\" src=\"./images/lp_sweep_model.png\" style=\"float: right; margin-left: 10px;\" width=50% /></a>\n",
    "\n",
    "\n",
    "\n",
    "The principle measurement technique is to vary the bias voltage of the electrode and to measure the current collected by the electrode as a function of the applied voltage. In other words, to measure the current-voltage (I-V) characterisitc of the electrode, as seen in the figure.\n",
    "\n",
    "The analysis of the I-V curve will then provide information about the plasma density and temperature. The theory was developed by Mott-Smith and Langmuir in the 1920's [[Mott-Smith and Langmuir, The theory of collectors in gaseous discharges, Phys. Rev. 28, 727, 1926, https://doi.org/10.1103/PhysRev.28.727]](https://doi.org/10.1103/PhysRev.28.727). There is no general theory that applies to all probe geometries and orientations, plasma conditions, and spacecraft designs. Probes are therefore designed for special limiting cases. In this module we consider the orbital-motion-limited (OML) described in Mott-Smith and Langmuir 1926. For this condition, the probe radius must be smaller than the thickness of the sheath that surrounds it ($r_{probe} \\lt \\lambda_D$ ).\n",
    "\n",
    "\n",
    "The material introduced in this module is for a cylindrical probe satisfying the OML theory - with probe radius smaller than the Debye length, and assumes an unmagnetized and [collisionless](https://www.merriam-webster.com/dictionary/collisionless) [Maxwellian plasma](https://en.wikipedia.org/wiki/Maxwell–Boltzmann_distribution).\n",
    "\n",
    "## Thermal current\n",
    "\n",
    "When there is no potential difference between the probe and the plasma the current to the probe is determined by the particle mean speed (according to a Maxwell-Boltzmann distributed population). \n",
    "\n",
    "$<v> = \\sqrt{\\frac{8 k T}{\\pi m}}$\n",
    "\n",
    "where m is the particle mass. Since the mass of an electron is much smaller than the mass of an ion, the thermal velocity of electrons is $\\sqrt(m_i/m_e)$ larger than the ion, e.g., ~43 in the case of hydrogen. The thermal current to the probe is therefore dominated by the electron thermal current, which is given by the following expression: \n",
    "\n",
    "$I_{e,th} = \\frac{1}{4} n_e \\cdot q \\cdot  A \\cdot <v>$\n",
    "\n",
    "$I_{e,th} = n_e \\cdot q \\cdot  A \\cdot \\sqrt{\\frac{kT_e}{2 \\pi m_e}}$\n",
    "\n",
    "where A is the collecting surface area of the probe.\n",
    "\n",
    "\n",
    "<!--This condition is true when the probe bias potential ($V_{bias}$) is at the plasma potential ($V_{plasma}$): $V = V_{bias} + V_{plasma} = 0$.-->\n",
    "\n",
    "\n",
    "\n",
    "\n",
    "\n",
    "\n",
    "## Floating potential ($V_f$)\n",
    "Consider a neutral object immersed in a plasma. Since electrons are more mobile than ions (higher velocity due to small mass), more electrons than ions will collide with and be collected by the object. The object will therefore aquire a negative charge with respect to the ambient plasma. This will in turn start to attract positive ions and repel electrons, until eventually an equilibrium is reach where the electron current balances the ion current ($I_e = I_i$). \n",
    "\n",
    "The floating potential $V_f$ refers to the potential aquired by an unbiased object relative to the plasma at the equilibrium condition where the electron current is equal to the ion current ($I_e = I_i$). In space, the plasma potential is usually defined to be 0 and thus a spacecraft will aquire a negative floating potential with respect to the plasma.\n",
    "\n",
    "\n",
    "## Electron retardation region ($T_e$)\n",
    "In the region where the probe potential is between the floating potential and the plasma potential, the probe potential is slightly negative relative to the plasma potential. In this region, only electrons with a sufficiently high thermal speed will be collected by the probe. Electrons with a lower thermal speed will be repelled. This is called the electron retardation region, and can be used to characterize the thermal distribution of the electrons, and thus also to determine the electron temperature $T_e$.\n",
    "\n",
    "Since a probe immersed in a plasma will aquire a negative floating potential, a positive bias voltage must be applied to the probe to measure the electron current in this region.\n",
    "\n",
    "\n",
    "As the potential difference between the probe and the plasma is reduced (increasing probe bias relative to $V_f$, the electron current will increase exponentially. As mentioned above, when reaching the plasma potential, all the thermal electrons with a direction towards the probe will be collected since no potential barrier exists between the probe and the plasma. \n",
    "\n",
    "The electron current to the probe in retardation region is:\n",
    "\n",
    "$I_{e,ret} = I_{e,th}\\cdot e^{\\left(qV/kT_e\\right)}$  \n",
    "\n",
    "where V is the probe bias relative to the plasma potential. <!-- $V = V_{bias} + V_{plasma} \\leq 0 $.-->\n",
    "\n",
    "At V=0, the potential difference between the probe and the plasma is 0 and there exist not sheeth around the probe. The current to the probe is then equal to the thermal current $I_{e,th}$ as discussed above. \n",
    "\n",
    "### Finding  $T_e$\n",
    "\n",
    "The electron temperature can be determined from the slope of the ln($I_e$)\n",
    "\n",
    "$ln(I_{e,ret}) = ln(I_{e,th}) + \\frac{q}{KT_e}V$ \n",
    "\n",
    "where the slope S is:\n",
    "\n",
    "$S = \\frac{q}{KT_e}$ \n",
    "\n",
    "and \n",
    "\n",
    "$T_e = \\frac{q}{kS}$ \n",
    "\n",
    "\n",
    "## Electron saturation region\n",
    "Increasing the probe voltage beyond the plasma, electrons will be attracted to the probe and form a sheath around the probe to shield the positively charged probe from the plasma. While the electric field set up by the probe does not affect the plasma outside the of the sheat, electrons that enter the sheath will be accelerated towards the probe and be collected as an electron current. Ions on the other hand will be repelled by the sheath. As the bias voltage is increased further, the collection area of the sheat will increase. The electron current to the probe in this region is given by:\n",
    "\n",
    "$I_{e,sat}=CI_{e,th}\\left(1 + \\frac{qV}{k_BT_e}\\right)^\\beta$   \n",
    "\n",
    "where\n",
    "where V is the probe bias relative to the plasma potential: <!--$V = V_{bias} + V_{plasma} \\geq 0$.-->\n",
    "\n",
    "$C: \\frac{2}{\\sqrt{\\pi}}$ (cylindrical), 1 (spherical)\n",
    "\n",
    "$\\beta$: 0 (planer), 0.5 (cylindrical), 1 (spherical)\n",
    "\n",
    "\n",
    "## Ion saturation region ($N_i$)\n",
    "If negative voltage is applied to the object or probe, the ion current to the probe will increase, and eventually only ions wil be collected. This region of the I-V curve is referred to as the ion saturation region and can be used to determine the ion density. For ionospheric plasmas we are usually conserned about the electron density. This region is therefore of less interest for this module. \n",
    "\n"
   ]
  },
  {
   "cell_type": "markdown",
   "id": "cc95f732",
   "metadata": {},
   "source": [
    "# Practical exercise\n",
    "\n",
    "This exercise we will demonstrate how you can determine the electron temperature and electron density by sweeping the bias voltage of a Langmuir probe immersed into a plasma. \n",
    "\n",
    "The method is adopted from in J.-P. Lebreton et al., \"The ISL Langmuir probe experiment processing onboard DEMETER: Scientific objectives, description and first results\", Planetary and Space Science, Vol. 54, Issue 5, April 2006, Pages 472-486. https://doi.org/10.1016/j.pss.2005.10.017\n",
    "Section 4. Data analysis method (4.1 - 4.3)\n",
    "\n",
    "Step by step the following analysis is performed:\n",
    "\n",
    "- You will start by producing and plotting a syntetic dataset generated using the an available Langmuir probe Python library.\n",
    "- The sweep includes both the electron and ion current to the probe. In order to determine the electron temperature from the slope of ln($I_{e,ret}$), you first need to subtract the ion current. This can be achieved by deriving an approximate curve for the ion saturation.\n",
    "-  Then you will have to identify the electron retardation region by determining the floating potential and the plasma potential. \n",
    "- The electron temperature can now be estimated from the slope of straight line that is fitted to natural logarithm of the electron current in the electron retardation region. \n",
    "- Finally you will determine the electron density at the point where the probe is at the plasma potential and no sheet exist between the probe and the plasma.\n",
    "\n",
    "\n",
    "\n",
    "\n"
   ]
  },
  {
   "cell_type": "code",
   "execution_count": 2,
   "id": "c73383f6",
   "metadata": {
    "slideshow": {
     "slide_type": "skip"
    }
   },
   "outputs": [],
   "source": [
    "# Load relevant Python libraries \n",
    "import numpy as np\n",
    "import matplotlib.pyplot as plt\n",
    "import langmuir as lm\n",
    "import scipy.constants as sc\n",
    "\n",
    "from scipy.optimize import curve_fit\n"
   ]
  },
  {
   "cell_type": "markdown",
   "id": "d2353c6b",
   "metadata": {
    "cell_style": "center",
    "slideshow": {
     "slide_type": "slide"
    }
   },
   "source": [
    "# Lets generate the data\n",
    "\n",
    "To validate the method we will use syntetic data. For this you can use the Langmuir probe python library by Sigvald Marholm and Diako Darian\n",
    "\n",
    "Documentation:\n",
    "https://langmuir.readthedocs.io/en/latest/index.html\n",
    "\n",
    "Github: https://github.com/langmuirproject/langmuir\n",
    "\n",
    "\n",
    "The Langmuir library contains a collection of functions that compute the current collected by a conductor immersed in a plasma according to various models (characteristics). These functions take as arguments the probe geometry, for instance Sphere, and a plasma, where a plasma may consist of one or more Species.\n",
    "\n"
   ]
  },
  {
   "cell_type": "code",
   "execution_count": 39,
   "id": "ad0d4b89",
   "metadata": {},
   "outputs": [
    {
     "name": "stdout",
     "output_type": "stream",
     "text": [
      "Electron current: -1.27e-08 A\n"
     ]
    }
   ],
   "source": [
    "# Example\n",
    "\n",
    "# The OML current from a probe biased at 5 V with radius 0.255 mm and length 2.5 mm immersed in a plasma with a density of\n",
    "# n_e = n_i = 1e11 m^3, and  Temperature of T = 1000 K, can be calculated as shown below.\n",
    "\n",
    "\n",
    "# Probe dimensions\n",
    "probe_radius = 0.255e-3\n",
    "probe_length = 2.5e-3\n",
    "probe_area = 2 * np.pi * probe_radius * probe_length\n",
    "\n",
    "# For simplicity lets assume Te = Ti = T and Ne = Ni = N \n",
    "N = 1e11\n",
    "T = 1200\n",
    "\n",
    "# Define the geometry of the cylinder\n",
    "probe_geometry = lm.Cylinder(r=probe_radius, l=probe_length)\n",
    "\n",
    "# Define the plasma as list of Electrons and Argon ions\n",
    "plasma = []\n",
    "plasma.append(lm.Electron(n=N, T=T))\n",
    "plasma.append(lm.Argon(n=N,T=T))\n",
    "\n",
    "# Calculate the electron current to the probe, assuming the V=5 is well in to the electron saturation region\n",
    "Ie = lm.OML_current(probe_geometry, plasma, V=1)\n",
    "\n",
    "\n",
    "print(\"Electron current: {:.2e} A\".format(Ie))\n"
   ]
  },
  {
   "cell_type": "markdown",
   "id": "dbfb63bd",
   "metadata": {},
   "source": [
    "## EX1 - Does the probe geometry satisfy the OML theory?\n",
    "\n",
    "Determine if the above specifed probe geometry satisfies the OML theory."
   ]
  },
  {
   "cell_type": "code",
   "execution_count": 33,
   "id": "e41095f6",
   "metadata": {},
   "outputs": [
    {
     "name": "stdout",
     "output_type": "stream",
     "text": [
      "Debye  length 7.6 mm\n"
     ]
    },
    {
     "data": {
      "text/plain": [
       "0.007559555077496573"
      ]
     },
     "execution_count": 33,
     "metadata": {},
     "output_type": "execute_result"
    }
   ],
   "source": [
    "# Solution EX1\n",
    "\n",
    "debye = np.sqrt(sc.epsilon_0*T*sc.k/(N*sc.e**2))\n",
    "\n",
    "\n",
    "print(\"Debye  length {:.2} mm\".format(debye*1e3))\n",
    "lm.Electron(n=N,T=T).debye"
   ]
  },
  {
   "cell_type": "markdown",
   "id": "484a38c2",
   "metadata": {},
   "source": [
    "## EX2 - Generate sweep data\n",
    "Generate and plot data for a bias sweep from -10 to +10 V with the probe geometry and plasma conditions as specified above"
   ]
  },
  {
   "cell_type": "code",
   "execution_count": 48,
   "id": "f5b1e117",
   "metadata": {
    "cell_style": "center",
    "slideshow": {
     "slide_type": "slide"
    }
   },
   "outputs": [
    {
     "data": {
      "image/png": "[encoded data removed]",
      "text/plain": [
       "<Figure size 1000x400 with 1 Axes>"
      ]
     },
     "metadata": {},
     "output_type": "display_data"
    }
   ],
   "source": [
    "# Solution EX2\n",
    "\n",
    "probe_bias = np.arange(-10,10,0.005)\n",
    "probe_current = -lm.OML_current(probe_geometry, plasma, V=probe_bias)\n",
    "\n",
    "fig = plt.figure(figsize=(10,4))\n",
    "ax = fig.add_subplot(111)\n",
    "ax.plot(probe_bias, abs(probe_current))\n",
    "ax.set_yscale(\"log\")"
   ]
  },
  {
   "cell_type": "markdown",
   "id": "43afc8d5",
   "metadata": {},
   "source": [
    "# EX3: Estimate fit for ion saturation current\n",
    "\n",
    "To determine the electron temperature we need remove the contribution from the ion current to the total current. Only then we can extract the electron temperature by fitting a straight line to the natural log of the electron current in the electron retardation region.\n",
    "\n",
    "Fit a straight line to the ion saturation region and subract the result from the total probe current."
   ]
  },
  {
   "cell_type": "code",
   "execution_count": 3,
   "id": "637a7582",
   "metadata": {},
   "outputs": [],
   "source": [
    "# Solution EX3\n",
    "\n",
    "\n"
   ]
  },
  {
   "cell_type": "markdown",
   "id": "ad86d96d",
   "metadata": {},
   "source": [
    "## EX4: Estimate the floating potential\n",
    "\n",
    "To identify the electron retardation region we need to first identify the floating potential and the plasma potential.\n",
    "\n",
    "An estimate for the floating potential can be found by finding voltage at which\n",
    "the total current is 0, or if we take the absolute value of the current, the voltage at which the current is the lowest."
   ]
  },
  {
   "cell_type": "code",
   "execution_count": 4,
   "id": "56a4ef6f",
   "metadata": {},
   "outputs": [],
   "source": [
    "# Solution EX4\n",
    "\n"
   ]
  },
  {
   "cell_type": "markdown",
   "id": "aeef46be",
   "metadata": {},
   "source": [
    "## EX5: Estimate the plasma potential\n",
    "The floating potential can be found at the transition point between the electron\n",
    "retardation and saturation region. At this point the current changes rapidly, and\n",
    "we can find this point by identify the point at which the derivativ of the\n",
    "electron current is at its maximum: max (dIe / dV) \n",
    "\n",
    "Tips: use np.gradient to find the delta of a data series"
   ]
  },
  {
   "cell_type": "code",
   "execution_count": 5,
   "id": "844ed7f6",
   "metadata": {},
   "outputs": [],
   "source": [
    "# Solution EX5\n",
    "\n"
   ]
  },
  {
   "cell_type": "markdown",
   "id": "dda551ad",
   "metadata": {},
   "source": [
    "## EX6: Estimate the electron temperature\n",
    "\n",
    "The electron temperature can be estimated by fitting a straight line to the electron retardation region between\n",
    "the floating potential and the plasma potential.\n",
    "\n",
    "Plot the line fit to get a feel for how well it fits. Adjust Vf and Vplasma manually if needed. \n"
   ]
  },
  {
   "cell_type": "code",
   "execution_count": 6,
   "id": "baf9058b",
   "metadata": {},
   "outputs": [],
   "source": [
    "# Solution EX6\n",
    "\n"
   ]
  },
  {
   "cell_type": "markdown",
   "id": "f4f3b24b",
   "metadata": {},
   "source": [
    "## EX7: Estimate the electron density\n",
    "    \n",
    "Estimate the electron density in the point where no sheet exist between the probe and the plasma. This is the point when only the thermal electrons contribute. (V = Vbias - Vplasma = 0)\n",
    "    "
   ]
  },
  {
   "cell_type": "markdown",
   "id": "8ff1f339",
   "metadata": {},
   "source": [
    "## Electron density\n",
    "\n",
    "The last step is to calculat the electron density.\n",
    "\n",
    "\n",
    "$I_e=N_eA_e q\\sqrt{\\frac{k_BT_e}{2\\pi m_e}}e^{qV/k_BT_e}$\n",
    "\n",
    "In the equation above, when the plasma potential, $V = 0$, the second term is equal to zero, and the electron density can be obtained by the following formula:\n",
    "\n",
    "$I_e(V=0)=N_eA_eq \\sqrt{\\frac{k_BT_e}{2\\pi m_e}}$\n",
    "\n",
    "$N_e = \\frac{I_e(V=0)}{qA_e}\\frac{1}{ \\sqrt{ \\frac{k_BT_e}{2\\pi m_e}}}$\n",
    "\n",
    "$N_e = \\frac{I_e(V=0)}{qA_e}\\sqrt{ \\frac{2\\pi m_e}{k_BT_e} }$\n",
    "\n"
   ]
  },
  {
   "cell_type": "code",
   "execution_count": null,
   "id": "40db3d65",
   "metadata": {},
   "outputs": [],
   "source": [
    "\n"
   ]
  },
  {
   "cell_type": "markdown",
   "id": "b3df436c",
   "metadata": {},
   "source": [
    "## EX8: Estimate the electron density using the mNLP approach\n",
    "\n",
    "$N_e = \\sqrt{K \\frac{\\Delta(I^2)}{\\Delta V}}$\n",
    "\n",
    "$K = \\frac{m_e}{(2qrl)^2 2q}$"
   ]
  },
  {
   "cell_type": "code",
   "execution_count": 7,
   "id": "41e5935f",
   "metadata": {},
   "outputs": [],
   "source": [
    "# Solution EX8\n",
    "\n"
   ]
  }
 ],
 "metadata": {
  "celltoolbar": "Slideshow",
  "kernelspec": {
   "display_name": "Python 3 (ipykernel)",
   "language": "python",
   "name": "python3"
  },
  "language_info": {
   "codemirror_mode": {
    "name": "ipython",
    "version": 3
   },
   "file_extension": ".py",
   "mimetype": "text/x-python",
   "name": "python",
   "nbconvert_exporter": "python",
   "pygments_lexer": "ipython3",
   "version": "3.10.4"
  }
 },
 "nbformat": 4,
 "nbformat_minor": 5
}
